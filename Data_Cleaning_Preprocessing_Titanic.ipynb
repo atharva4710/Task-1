{
 "cells": [
  {
   "cell_type": "markdown",
   "id": "dbd41208",
   "metadata": {},
   "source": [
    "# Task 1: Data Cleaning & Preprocessing\n",
    "\n",
    "This notebook demonstrates how to clean and preprocess data using the Titanic dataset."
   ]
  },
  {
   "cell_type": "code",
   "execution_count": null,
   "id": "c32524a6",
   "metadata": {},
   "outputs": [],
   "source": [
    "\n",
    "import pandas as pd\n",
    "import numpy as np\n",
    "import matplotlib.pyplot as plt\n",
    "import seaborn as sns\n",
    "\n",
    "sns.set(style='whitegrid')\n"
   ]
  },
  {
   "cell_type": "code",
   "execution_count": null,
   "id": "294e63f5",
   "metadata": {},
   "outputs": [],
   "source": [
    "\n",
    "# Load the Titanic dataset\n",
    "df = pd.read_csv('Titanic-Dataset.csv')  # Make sure the CSV is in the same directory\n",
    "df.head()\n"
   ]
  },
  {
   "cell_type": "code",
   "execution_count": null,
   "id": "28f43802",
   "metadata": {},
   "outputs": [],
   "source": [
    "\n",
    "# Basic information and statistics\n",
    "print(df.info())\n",
    "df.describe(include='all')\n"
   ]
  },
  {
   "cell_type": "code",
   "execution_count": null,
   "id": "ccae09ec",
   "metadata": {},
   "outputs": [],
   "source": [
    "\n",
    "# Check and handle missing values\n",
    "print(df.isnull().sum())\n",
    "\n",
    "# Fill Age with median\n",
    "df.fillna({'Age':df['Age'].median()}, inplace=True)\n",
    "\n",
    "# Fill Embarked with mode\n",
    "df.fillna({'Embarked':df['Embarked'].mode()[0]}, inplace=True)\n",
    "\n",
    "# Drop Cabin (too many missing values)\n",
    "df.drop(columns=['Cabin'], inplace=True)\n"
   ]
  },
  {
   "cell_type": "code",
   "execution_count": null,
   "id": "53e48f6e",
   "metadata": {},
   "outputs": [],
   "source": [
    "\n",
    "# Encode 'Sex' and 'Embarked'\n",
    "df['Sex'] = df['Sex'].map({'male': 0, 'female': 1})\n",
    "df = pd.get_dummies(df, columns=['Embarked'], drop_first=True)\n"
   ]
  },
  {
   "cell_type": "code",
   "execution_count": null,
   "id": "42913f56",
   "metadata": {},
   "outputs": [],
   "source": [
    "\n",
    "from sklearn.preprocessing import StandardScaler\n",
    "\n",
    "numeric_cols = ['Age', 'Fare', 'SibSp', 'Parch']\n",
    "scaler = StandardScaler()\n",
    "df[numeric_cols] = scaler.fit_transform(df[numeric_cols])\n"
   ]
  },
  {
   "cell_type": "code",
   "execution_count": null,
   "id": "72d9bdb3",
   "metadata": {},
   "outputs": [],
   "source": [
    "\n",
    "# Boxplot for outlier visualization\n",
    "plt.figure(figsize=(10, 6))\n",
    "sns.boxplot(data=df[numeric_cols])\n",
    "plt.title('Boxplot for Numerical Features')\n",
    "plt.show()\n"
   ]
  },
  {
   "cell_type": "code",
   "execution_count": null,
   "id": "f4787037",
   "metadata": {},
   "outputs": [],
   "source": [
    "\n",
    "# Remove outliers using IQR\n",
    "for col in numeric_cols:\n",
    "    Q1 = df[col].quantile(0.25)\n",
    "    Q3 = df[col].quantile(0.75)\n",
    "    IQR = Q3 - Q1\n",
    "    lower = Q1 - 1.5 * IQR\n",
    "    upper = Q3 + 1.5 * IQR\n",
    "    df = df[(df[col] >= lower) & (df[col] <= upper)]\n"
   ]
  },
  {
   "cell_type": "code",
   "execution_count": null,
   "id": "c80c97d6",
   "metadata": {},
   "outputs": [],
   "source": [
    "\n",
    "# Final dataset check\n",
    "df.info()\n",
    "df.head()\n"
   ]
  }
 ],
 "metadata": {
  "language_info": {
   "name": "python"
  }
 },
 "nbformat": 4,
 "nbformat_minor": 5
}
